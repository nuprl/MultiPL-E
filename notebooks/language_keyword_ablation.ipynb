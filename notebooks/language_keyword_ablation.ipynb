{
 "cells": [
  {
   "attachments": {},
   "cell_type": "markdown",
   "metadata": {},
   "source": [
    "This script builds a dataset of prompts for programming languages that do not perform very well. It adds a \"Generate for LANGUAGE\" prefix to each prompt. Hopefully that will help!"
   ]
  },
  {
   "cell_type": "markdown",
   "metadata": {},
   "source": [
    "You may wish to change the paths below."
   ]
  },
  {
   "cell_type": "code",
   "execution_count": 1,
   "metadata": {},
   "outputs": [
    {
     "name": "stdout",
     "output_type": "stream",
     "text": [
      "env: TRANSFORMERS_CACHE=/work/arjunguha-research-group/arjun/cache/transformers\n",
      "env: HF_DATASETS_CACHE=/work/arjunguha-research-group/arjun/cache/datasets\n"
     ]
    }
   ],
   "source": [
    "%set_env TRANSFORMERS_CACHE=/work/arjunguha-research-group/arjun/cache/transformers\n",
    "%set_env HF_DATASETS_CACHE=/work/arjunguha-research-group/arjun/cache/datasets"
   ]
  },
  {
   "cell_type": "code",
   "execution_count": 28,
   "metadata": {},
   "outputs": [],
   "source": [
    "import datasets\n",
    "import json\n",
    "from pathlib import Path"
   ]
  },
  {
   "cell_type": "code",
   "execution_count": 48,
   "metadata": {},
   "outputs": [],
   "source": [
    "LANGS = [ \"jl\", \"rkt\", \"d\", \"r\" ]\n",
    "TARGET_PATH = Path(\"../language_in_prompt\")"
   ]
  },
  {
   "attachments": {},
   "cell_type": "markdown",
   "metadata": {},
   "source": [
    "First, we concatenate the datasets for some languages. I regret that these are subsets."
   ]
  },
  {
   "attachments": {},
   "cell_type": "markdown",
   "metadata": {},
   "source": [
    "We are careful to insert the `;; Generate in Racket` after the `#lang racket`.\n",
    "This explains the magic number that appears in the cell after."
   ]
  },
  {
   "cell_type": "code",
   "execution_count": 46,
   "metadata": {},
   "outputs": [
    {
     "name": "stderr",
     "output_type": "stream",
     "text": [
      "Found cached dataset multi_pl-e (/work/arjunguha-research-group/arjun/cache/datasets/nuprl___multi_pl-e/humaneval-r/2.0.0/cd5d4cbadd8c38aeada4809afb908ef4425f83de6f2726bf2639f6980002d4c0)\n"
     ]
    },
    {
     "name": "stdout",
     "output_type": "stream",
     "text": [
      "# For a given number n, find the largest number that divides n evenly, smaller than n\n",
      "# >>> largest_divisor(15)\n",
      "# 5\n",
      "largest_divisor <- function(n) {\n"
     ]
    }
   ],
   "source": [
    "dataset = datasets.load_dataset(\"nuprl/MultiPL-E\", name=f\"humaneval-r\", split=\"test\")\n",
    "print(dataset[0][\"prompt\"])\n"
   ]
  },
  {
   "cell_type": "code",
   "execution_count": 47,
   "metadata": {},
   "outputs": [],
   "source": [
    "#print(dataset[250][\"prompt\"][:14] + \"<SPLIT>\" + dataset[250][\"prompt\"][14:])\n",
    "\n",
    "def add_language_name_to_prompt(item):\n",
    "    lang = item[\"language\"]\n",
    "    prompt = item[\"prompt\"]\n",
    "    if lang == \"jl\":\n",
    "        prompt = \"# Generate in Julia\\n\\n\" + prompt\n",
    "    elif lang == \"rkt\":\n",
    "        prompt = \"#lang racket\\n\\n ;; Generate in Racket\\n\\n\" + prompt[14:]\n",
    "    elif lang == \"d\":\n",
    "        prompt = \"/* Generate in D */\\n\" + prompt\n",
    "    elif lang == \"r\":\n",
    "        prompt = \"# Generate in R\\n\\n\" + prompt\n",
    "    else:\n",
    "        raise ValueError(f\"Unknown language {lang}\")\n",
    "    return { \"prompt\": prompt, \"prompt_terminology\": \"promptwithlang\" }"
   ]
  },
  {
   "cell_type": "code",
   "execution_count": 49,
   "metadata": {},
   "outputs": [
    {
     "name": "stderr",
     "output_type": "stream",
     "text": [
      "Found cached dataset multi_pl-e (/work/arjunguha-research-group/arjun/cache/datasets/nuprl___multi_pl-e/humaneval-jl/2.0.0/cd5d4cbadd8c38aeada4809afb908ef4425f83de6f2726bf2639f6980002d4c0)\n",
      "Creating json from Arrow format: 100%|██████████| 1/1 [00:00<00:00, 30.59ba/s]\n",
      "Found cached dataset multi_pl-e (/work/arjunguha-research-group/arjun/cache/datasets/nuprl___multi_pl-e/humaneval-rkt/2.0.0/cd5d4cbadd8c38aeada4809afb908ef4425f83de6f2726bf2639f6980002d4c0)\n",
      "Creating json from Arrow format: 100%|██████████| 1/1 [00:00<00:00, 156.41ba/s]\n",
      "Found cached dataset multi_pl-e (/work/arjunguha-research-group/arjun/cache/datasets/nuprl___multi_pl-e/humaneval-d/2.0.0/cd5d4cbadd8c38aeada4809afb908ef4425f83de6f2726bf2639f6980002d4c0)\n",
      "Creating json from Arrow format: 100%|██████████| 1/1 [00:00<00:00, 156.88ba/s]\n",
      "Found cached dataset multi_pl-e (/work/arjunguha-research-group/arjun/cache/datasets/nuprl___multi_pl-e/humaneval-r/2.0.0/cd5d4cbadd8c38aeada4809afb908ef4425f83de6f2726bf2639f6980002d4c0)\n",
      "Creating json from Arrow format: 100%|██████████| 1/1 [00:00<00:00, 190.34ba/s]\n"
     ]
    }
   ],
   "source": [
    "for lang in LANGS:\n",
    "    dataset = datasets.load_dataset(\"nuprl/MultiPL-E\", name=f\"humaneval-{lang}\", split=\"test\")\n",
    "    dataset = dataset.map(add_language_name_to_prompt)\n",
    "    dataset.to_json(TARGET_PATH / f\"humaneval-{lang}.json\")"
   ]
  }
 ],
 "metadata": {
  "kernelspec": {
   "display_name": "gpu",
   "language": "python",
   "name": "python3"
  },
  "language_info": {
   "codemirror_mode": {
    "name": "ipython",
    "version": 3
   },
   "file_extension": ".py",
   "mimetype": "text/x-python",
   "name": "python",
   "nbconvert_exporter": "python",
   "pygments_lexer": "ipython3",
   "version": "3.8.1"
  },
  "orig_nbformat": 4
 },
 "nbformat": 4,
 "nbformat_minor": 2
}
